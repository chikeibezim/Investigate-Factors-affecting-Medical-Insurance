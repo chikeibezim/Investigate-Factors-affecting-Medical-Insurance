{
 "cells": [
  {
   "cell_type": "markdown",
   "id": "0ba5b47e",
   "metadata": {
    "papermill": {
     "duration": 0.004605,
     "end_time": "2023-05-11T15:30:05.709631",
     "exception": false,
     "start_time": "2023-05-11T15:30:05.705026",
     "status": "completed"
    },
    "tags": []
   },
   "source": [
    "Suppose you are a medical professional curious about how certain factors contribute to medical insurance costs. Using a formula that estimates a person’s yearly insurance costs, you will investigate how different factors such as age, sex, BMI, etc. affect the prediction.\n",
    "\n",
    "Note: while insurance companies do use BMI in their calculations, and that is reflected in this project, BMI is not necessarily an accurate predictor of health. As data scientists, we should always be skeptical of quantitative measures like BMI that reduce complex phenomena to a single number."
   ]
  },
  {
   "cell_type": "code",
   "execution_count": 1,
   "id": "00d94ac1",
   "metadata": {
    "execution": {
     "iopub.execute_input": "2023-05-11T15:30:05.720326Z",
     "iopub.status.busy": "2023-05-11T15:30:05.719889Z",
     "iopub.status.idle": "2023-05-11T15:30:05.731669Z",
     "shell.execute_reply": "2023-05-11T15:30:05.730577Z"
    },
    "papermill": {
     "duration": 0.020173,
     "end_time": "2023-05-11T15:30:05.734265",
     "exception": false,
     "start_time": "2023-05-11T15:30:05.714092",
     "status": "completed"
    },
    "tags": []
   },
   "outputs": [],
   "source": [
    "# setup variables\n",
    "\n",
    "age = 28\n",
    "sex = 0 # 0 for female, 1 for male\n",
    "bmi = 26.2\n",
    "num_of_children = 3\n",
    "smoker = 0 #0 for non-smoker, 1 for smoker"
   ]
  },
  {
   "cell_type": "markdown",
   "id": "9d3741df",
   "metadata": {
    "papermill": {
     "duration": 0.004369,
     "end_time": "2023-05-11T15:30:05.742922",
     "exception": false,
     "start_time": "2023-05-11T15:30:05.738553",
     "status": "completed"
    },
    "tags": []
   },
   "source": [
    "### Working with the formula\n",
    "$insurance = 250 * age - 128 * sex + 370 * bmi + 425 * children + 24000 * smoker - 12500$"
   ]
  },
  {
   "cell_type": "code",
   "execution_count": 2,
   "id": "6dcdbdf2",
   "metadata": {
    "execution": {
     "iopub.execute_input": "2023-05-11T15:30:05.753999Z",
     "iopub.status.busy": "2023-05-11T15:30:05.753323Z",
     "iopub.status.idle": "2023-05-11T15:30:05.758374Z",
     "shell.execute_reply": "2023-05-11T15:30:05.757485Z"
    },
    "papermill": {
     "duration": 0.01368,
     "end_time": "2023-05-11T15:30:05.760840",
     "exception": false,
     "start_time": "2023-05-11T15:30:05.747160",
     "status": "completed"
    },
    "tags": []
   },
   "outputs": [],
   "source": [
    "insurance_cost = 250 * age - 128 * sex + 370 * bmi + 425 * num_of_children + 24000 * smoker - 12500"
   ]
  },
  {
   "cell_type": "code",
   "execution_count": 3,
   "id": "0374fcde",
   "metadata": {
    "execution": {
     "iopub.execute_input": "2023-05-11T15:30:05.771539Z",
     "iopub.status.busy": "2023-05-11T15:30:05.770916Z",
     "iopub.status.idle": "2023-05-11T15:30:05.776057Z",
     "shell.execute_reply": "2023-05-11T15:30:05.774765Z"
    },
    "papermill": {
     "duration": 0.013096,
     "end_time": "2023-05-11T15:30:05.778358",
     "exception": false,
     "start_time": "2023-05-11T15:30:05.765262",
     "status": "completed"
    },
    "tags": []
   },
   "outputs": [
    {
     "name": "stdout",
     "output_type": "stream",
     "text": [
      "The person's insurance cost is 5469.0 dollars.\n"
     ]
    }
   ],
   "source": [
    "print(\"The person's insurance cost is \" + str(insurance_cost) + \" dollars.\")"
   ]
  },
  {
   "cell_type": "code",
   "execution_count": 4,
   "id": "7bd31c30",
   "metadata": {
    "execution": {
     "iopub.execute_input": "2023-05-11T15:30:05.788910Z",
     "iopub.status.busy": "2023-05-11T15:30:05.788221Z",
     "iopub.status.idle": "2023-05-11T15:30:05.794935Z",
     "shell.execute_reply": "2023-05-11T15:30:05.793554Z"
    },
    "papermill": {
     "duration": 0.014903,
     "end_time": "2023-05-11T15:30:05.797510",
     "exception": false,
     "start_time": "2023-05-11T15:30:05.782607",
     "status": "completed"
    },
    "tags": []
   },
   "outputs": [],
   "source": [
    "# Considering age factor\n",
    "# add 4 years to age \n",
    "\n",
    "age += 4\n",
    "\n",
    "#calculate new insurance_cost\n",
    "new_insurance_cost = 250 * age - 128 * sex + 370 * bmi + 425 * num_of_children + 24000 * smoker - 12500"
   ]
  },
  {
   "cell_type": "code",
   "execution_count": 5,
   "id": "b8825edc",
   "metadata": {
    "execution": {
     "iopub.execute_input": "2023-05-11T15:30:05.807676Z",
     "iopub.status.busy": "2023-05-11T15:30:05.807306Z",
     "iopub.status.idle": "2023-05-11T15:30:05.813571Z",
     "shell.execute_reply": "2023-05-11T15:30:05.812207Z"
    },
    "papermill": {
     "duration": 0.014424,
     "end_time": "2023-05-11T15:30:05.816191",
     "exception": false,
     "start_time": "2023-05-11T15:30:05.801767",
     "status": "completed"
    },
    "tags": []
   },
   "outputs": [
    {
     "name": "stdout",
     "output_type": "stream",
     "text": [
      "The change in cost of insurance after increasing the age by 4 years is 6469.0 dollars\n"
     ]
    }
   ],
   "source": [
    "#Change in insurance cost\n",
    "change_in_insurance_cost = new_insurance_cost - insurance_cost\n",
    "print(\"The change in cost of insurance after increasing the age by 4 years is \" + str(new_insurance_cost) + \" dollars\")"
   ]
  },
  {
   "cell_type": "code",
   "execution_count": 6,
   "id": "93117e74",
   "metadata": {
    "execution": {
     "iopub.execute_input": "2023-05-11T15:30:05.827490Z",
     "iopub.status.busy": "2023-05-11T15:30:05.827057Z",
     "iopub.status.idle": "2023-05-11T15:30:05.834372Z",
     "shell.execute_reply": "2023-05-11T15:30:05.833170Z"
    },
    "papermill": {
     "duration": 0.015863,
     "end_time": "2023-05-11T15:30:05.836792",
     "exception": false,
     "start_time": "2023-05-11T15:30:05.820929",
     "status": "completed"
    },
    "tags": []
   },
   "outputs": [
    {
     "name": "stdout",
     "output_type": "stream",
     "text": [
      "The change in estimated insurance cost after increasing BMI by 3.1 is 1147.0 dollars.\n"
     ]
    }
   ],
   "source": [
    "#looking at bmi factor\n",
    "age = 28\n",
    "bmi += 3.1\n",
    "\n",
    "new_insurance_cost = 250 * age - 128 * sex + 370 * bmi + 425 * num_of_children + 24000 * smoker - 12500\n",
    "change_in_insurance_cost = new_insurance_cost - insurance_cost\n",
    "print(\"The change in estimated insurance cost after increasing BMI by 3.1 is \" + str(change_in_insurance_cost) + \" dollars.\")"
   ]
  },
  {
   "cell_type": "code",
   "execution_count": 7,
   "id": "87af0185",
   "metadata": {
    "execution": {
     "iopub.execute_input": "2023-05-11T15:30:05.847478Z",
     "iopub.status.busy": "2023-05-11T15:30:05.847006Z",
     "iopub.status.idle": "2023-05-11T15:30:05.854946Z",
     "shell.execute_reply": "2023-05-11T15:30:05.853363Z"
    },
    "papermill": {
     "duration": 0.016173,
     "end_time": "2023-05-11T15:30:05.857375",
     "exception": false,
     "start_time": "2023-05-11T15:30:05.841202",
     "status": "completed"
    },
    "tags": []
   },
   "outputs": [
    {
     "name": "stdout",
     "output_type": "stream",
     "text": [
      "The change in estimated insurance cost for male is -128.0 dollars.\n"
     ]
    }
   ],
   "source": [
    "# Looking at sex factor\n",
    "sex = 1\n",
    "bmi = 26.2\n",
    "\n",
    "new_insurance_cost = 250 * age - 128 * sex + 370 * bmi + 425 * num_of_children + 24000 * smoker - 12500\n",
    "change_in_insurance_cost = new_insurance_cost - insurance_cost\n",
    "print(\"The change in estimated insurance cost for male is \" + str(change_in_insurance_cost) + \" dollars.\")"
   ]
  },
  {
   "cell_type": "markdown",
   "id": "241f0934",
   "metadata": {
    "papermill": {
     "duration": 0.004185,
     "end_time": "2023-05-11T15:30:05.866184",
     "exception": false,
     "start_time": "2023-05-11T15:30:05.861999",
     "status": "completed"
    },
    "tags": []
   },
   "source": [
    "Looks like men have a lower insurance cost than women"
   ]
  },
  {
   "cell_type": "code",
   "execution_count": null,
   "id": "cfb32de5",
   "metadata": {
    "papermill": {
     "duration": 0.004092,
     "end_time": "2023-05-11T15:30:05.874812",
     "exception": false,
     "start_time": "2023-05-11T15:30:05.870720",
     "status": "completed"
    },
    "tags": []
   },
   "outputs": [],
   "source": []
  }
 ],
 "metadata": {
  "kernelspec": {
   "display_name": "Python 3",
   "language": "python",
   "name": "python3"
  },
  "language_info": {
   "codemirror_mode": {
    "name": "ipython",
    "version": 3
   },
   "file_extension": ".py",
   "mimetype": "text/x-python",
   "name": "python",
   "nbconvert_exporter": "python",
   "pygments_lexer": "ipython3",
   "version": "3.10.10"
  },
  "papermill": {
   "default_parameters": {},
   "duration": 14.459052,
   "end_time": "2023-05-11T15:30:06.802653",
   "environment_variables": {},
   "exception": null,
   "input_path": "__notebook__.ipynb",
   "output_path": "__notebook__.ipynb",
   "parameters": {},
   "start_time": "2023-05-11T15:29:52.343601",
   "version": "2.4.0"
  }
 },
 "nbformat": 4,
 "nbformat_minor": 5
}
